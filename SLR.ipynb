{
  "nbformat": 4,
  "nbformat_minor": 0,
  "metadata": {
    "colab": {
      "provenance": [],
      "mount_file_id": "1JjFmyc6rnCs_jl1whe09meDtjGt4WC-2",
      "authorship_tag": "ABX9TyNYyAZUwafOfyq7HX3tZEIt",
      "include_colab_link": true
    },
    "kernelspec": {
      "name": "python3",
      "display_name": "Python 3"
    },
    "language_info": {
      "name": "python"
    }
  },
  "cells": [
    {
      "cell_type": "markdown",
      "metadata": {
        "id": "view-in-github",
        "colab_type": "text"
      },
      "source": [
        "<a href=\"https://colab.research.google.com/github/kimdonggyun/SLR/blob/main/SLR.ipynb\" target=\"_parent\"><img src=\"https://colab.research.google.com/assets/colab-badge.svg\" alt=\"Open In Colab\"/></a>"
      ]
    },
    {
      "cell_type": "markdown",
      "source": [
        "**Sea Level Rise Analysis**"
      ],
      "metadata": {
        "id": "XimAHmpAIVZb"
      }
    },
    {
      "cell_type": "code",
      "source": [
        "# install package\n",
        "!pip install rasterio"
      ],
      "metadata": {
        "colab": {
          "base_uri": "https://localhost:8080/"
        },
        "id": "0wS6Fqvn9asM",
        "outputId": "84af4039-a057-4ae6-b180-3d61e076b069"
      },
      "execution_count": 9,
      "outputs": [
        {
          "output_type": "stream",
          "name": "stdout",
          "text": [
            "Collecting rasterio\n",
            "  Downloading rasterio-1.3.10-cp310-cp310-manylinux2014_x86_64.whl.metadata (14 kB)\n",
            "Collecting affine (from rasterio)\n",
            "  Downloading affine-2.4.0-py3-none-any.whl.metadata (4.0 kB)\n",
            "Requirement already satisfied: attrs in /usr/local/lib/python3.10/dist-packages (from rasterio) (24.2.0)\n",
            "Requirement already satisfied: certifi in /usr/local/lib/python3.10/dist-packages (from rasterio) (2024.7.4)\n",
            "Requirement already satisfied: click>=4.0 in /usr/local/lib/python3.10/dist-packages (from rasterio) (8.1.7)\n",
            "Requirement already satisfied: cligj>=0.5 in /usr/local/lib/python3.10/dist-packages (from rasterio) (0.7.2)\n",
            "Requirement already satisfied: numpy in /usr/local/lib/python3.10/dist-packages (from rasterio) (1.26.4)\n",
            "Collecting snuggs>=1.4.1 (from rasterio)\n",
            "  Downloading snuggs-1.4.7-py3-none-any.whl.metadata (3.4 kB)\n",
            "Requirement already satisfied: click-plugins in /usr/local/lib/python3.10/dist-packages (from rasterio) (1.1.1)\n",
            "Requirement already satisfied: setuptools in /usr/local/lib/python3.10/dist-packages (from rasterio) (71.0.4)\n",
            "Requirement already satisfied: pyparsing>=2.1.6 in /usr/local/lib/python3.10/dist-packages (from snuggs>=1.4.1->rasterio) (3.1.2)\n",
            "Downloading rasterio-1.3.10-cp310-cp310-manylinux2014_x86_64.whl (21.5 MB)\n",
            "\u001b[2K   \u001b[90m━━━━━━━━━━━━━━━━━━━━━━━━━━━━━━━━━━━━━━━━\u001b[0m \u001b[32m21.5/21.5 MB\u001b[0m \u001b[31m57.7 MB/s\u001b[0m eta \u001b[36m0:00:00\u001b[0m\n",
            "\u001b[?25hDownloading snuggs-1.4.7-py3-none-any.whl (5.4 kB)\n",
            "Downloading affine-2.4.0-py3-none-any.whl (15 kB)\n",
            "Installing collected packages: snuggs, affine, rasterio\n",
            "Successfully installed affine-2.4.0 rasterio-1.3.10 snuggs-1.4.7\n"
          ]
        }
      ]
    },
    {
      "cell_type": "code",
      "source": [
        "# import libraries\n",
        "import pandas as pd\n",
        "import rasterio\n",
        "import numpy as np\n",
        "import matplotlib.pyplot as plt"
      ],
      "metadata": {
        "id": "ENFwoSa-If8I"
      },
      "execution_count": 10,
      "outputs": []
    },
    {
      "cell_type": "markdown",
      "source": [
        "1. Load Sea Level Rise Projections\n",
        "data source: https://sealevel.nasa.gov/ipcc-ar6-sea-level-projection-tool"
      ],
      "metadata": {
        "id": "l0xegd1xIseH"
      }
    },
    {
      "cell_type": "code",
      "source": [
        "# Load Excel file\n",
        "file_path = '/content/drive/MyDrive/SLR/ipcc_ar6_sea_level_projection_10_104.xlsx'\n",
        "xls = pd.ExcelFile(file_path)\n",
        "\n",
        "# Extract information from Total Rates Sheet\n",
        "total_df = pd.read_excel(xls, sheet_name='Total Rates')"
      ],
      "metadata": {
        "id": "cDICpdKRI5aF"
      },
      "execution_count": 11,
      "outputs": []
    },
    {
      "cell_type": "code",
      "source": [
        "# Filter for chosen model and percentile\n",
        "ssp_model = total_df[\n",
        "    (total_df['scenario'] == 'ssp245') &\n",
        "    (total_df['quantile'] == 50)\n",
        "]\n",
        "\n",
        "# select the years of interest\n",
        "year_of_interest = [2020, 2030, 2040, 2050, 2060, 2070, 2080, 2090, 2110, 2120]\n",
        "ssp_model_filtered = ssp_model[['lon', 'lat'] + year_of_interest]\n",
        "\n",
        "print(ssp_model_filtered.head())"
      ],
      "metadata": {
        "colab": {
          "base_uri": "https://localhost:8080/"
        },
        "collapsed": true,
        "id": "4QnBZG4ZKm0Q",
        "outputId": "235e1b6e-6b95-4f4c-c04c-d3610f6441ff"
      },
      "execution_count": 12,
      "outputs": [
        {
          "output_type": "stream",
          "name": "stdout",
          "text": [
            "    lon  lat  2020  2030  2040  2050  2060  2070  2080  2090  2110  2120\n",
            "12   10  104     3     4     5     5     6     7     7     8     7     7\n"
          ]
        }
      ]
    },
    {
      "cell_type": "markdown",
      "source": [
        "2. Load Digital Elevation Model for the Soil Erosion Estimation"
      ],
      "metadata": {
        "id": "rUAM0YLSVaol"
      }
    },
    {
      "cell_type": "code",
      "source": [
        "# Load SRTM DEM file\n",
        "dem_file_path = '/content/drive/MyDrive/SLR/SEASIA.DEM'\n",
        "\n",
        "# Open the DEM file using rasterio\n",
        "with rasterio.open(dem_file_path) as dem_dataset:\n",
        "    # Read the DEM data into a NumPy array\n",
        "    dem_data = dem_dataset.read(1) # Read the first band\n",
        "    dem_profile = dem_data.profile # Get the profile of the DEM data\n",
        "\n",
        "# print basic metadata\n"
      ],
      "metadata": {
        "id": "G4C5DQMRVlzV"
      },
      "execution_count": null,
      "outputs": []
    }
  ]
}